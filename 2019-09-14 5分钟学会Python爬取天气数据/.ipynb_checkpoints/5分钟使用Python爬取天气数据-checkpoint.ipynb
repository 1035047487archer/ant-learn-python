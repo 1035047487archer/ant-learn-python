{
 "cells": [
  {
   "cell_type": "markdown",
   "metadata": {},
   "source": [
    "# 5分钟使用Python爬取天气数据"
   ]
  },
  {
   "cell_type": "markdown",
   "metadata": {},
   "source": [
    "爬取网站的步骤：\n",
    "1. 设定爬取目标\n",
    "   * 目标网站：2345天气预报网 - 北京历史天气，http://tianqi.2345.com/wea_history/54511.htm\n",
    "   * 目标数据：北京2018年全年天气预报数据\n",
    "2. 分析目标网站\n",
    "   * 待爬取页面：http://tianqi.2345.com/t/wea_history/js/201906/54511_201906.js ，其中日期可替换\n",
    "   * 待爬取数据：数据在js里面，是json格式\n",
    "3. 批量下载js文件\n",
    "   * 使用requests库实现下载，官网：https://2.python-requests.org//zh_CN/latest/user/quickstart.html\n",
    "4. 实现返回的javascript解析，得到目标数据\n",
    "   * 对于javascript的json如何解析？\n",
    "5. 将结果数据存储\n",
    "   * 将数据结果存储成csv格式，方便后续数据分析"
   ]
  },
  {
   "cell_type": "markdown",
   "metadata": {},
   "source": [
    "## 1、构造待爬取的月份列表"
   ]
  },
  {
   "cell_type": "code",
   "execution_count": null,
   "metadata": {},
   "outputs": [],
   "source": [
    "year = 2018\n",
    "months = [\"%d%02d\"%(year, month+1) for month in range(12)]"
   ]
  },
  {
   "cell_type": "code",
   "execution_count": null,
   "metadata": {},
   "outputs": [],
   "source": [
    "months"
   ]
  },
  {
   "cell_type": "markdown",
   "metadata": {},
   "source": [
    "## 2、构造待爬取的JS的URL列表"
   ]
  },
  {
   "cell_type": "code",
   "execution_count": null,
   "metadata": {},
   "outputs": [],
   "source": [
    "todo_urls = [\n",
    "    f\"http://tianqi.2345.com/t/wea_history/js/{month}/54511_{month}.js\"\n",
    "    for month in months\n",
    "]"
   ]
  },
  {
   "cell_type": "code",
   "execution_count": null,
   "metadata": {},
   "outputs": [],
   "source": [
    "todo_urls"
   ]
  },
  {
   "cell_type": "markdown",
   "metadata": {},
   "source": [
    "## 3、批量下载数据"
   ]
  },
  {
   "cell_type": "code",
   "execution_count": null,
   "metadata": {},
   "outputs": [],
   "source": [
    "import requests\n",
    "\n",
    "datas = []\n",
    "for url in todo_urls:\n",
    "    r = requests.get(url)\n",
    "    if r.status_code!=200:\n",
    "        raise Exception()\n",
    "    # 去除javascript前后的字符串，得到一个js格式的JSON\n",
    "    data = r.text.lstrip(\"var weather_str=\").rstrip(\";\")\n",
    "    datas.append(data)"
   ]
  },
  {
   "cell_type": "code",
   "execution_count": null,
   "metadata": {},
   "outputs": [],
   "source": [
    "datas[0]"
   ]
  },
  {
   "cell_type": "markdown",
   "metadata": {},
   "source": [
    "## 4、解析JavaScript返回的数据"
   ]
  },
  {
   "cell_type": "code",
   "execution_count": null,
   "metadata": {},
   "outputs": [],
   "source": [
    "### 注意，这里的json是javascript格式，不能用标准库json解析\n",
    "import json\n",
    "json.loads(datas[0])"
   ]
  },
  {
   "cell_type": "markdown",
   "metadata": {},
   "source": [
    "***介绍模块：demjson***   \n",
    "地址：https://pypi.org/project/demjson/2.2.4/  \n",
    "理由：  \n",
    "    It is especially useful for   \n",
    "    error checking   \n",
    "    or ***for parsing JavaScript data***   \n",
    "    which may not strictly be valid JSON data."
   ]
  },
  {
   "cell_type": "code",
   "execution_count": null,
   "metadata": {},
   "outputs": [],
   "source": [
    "import demjson"
   ]
  },
  {
   "cell_type": "code",
   "execution_count": null,
   "metadata": {},
   "outputs": [],
   "source": [
    "demjson.decode(datas[0])"
   ]
  },
  {
   "cell_type": "code",
   "execution_count": null,
   "metadata": {},
   "outputs": [],
   "source": [
    "tqInfos = demjson.decode(datas[0])[\"tqInfo\"]"
   ]
  },
  {
   "cell_type": "code",
   "execution_count": null,
   "metadata": {},
   "outputs": [],
   "source": [
    "tqInfos"
   ]
  },
  {
   "cell_type": "code",
   "execution_count": null,
   "metadata": {},
   "outputs": [],
   "source": [
    "# 解析所有月份的数据\n",
    "all_datas = []\n",
    "\n",
    "for data in datas:\n",
    "    tqInfos = demjson.decode(data)[\"tqInfo\"]\n",
    "    all_datas.extend([x for x in tqInfos if len(x)>0])"
   ]
  },
  {
   "cell_type": "code",
   "execution_count": null,
   "metadata": {},
   "outputs": [],
   "source": [
    "len(all_datas)"
   ]
  },
  {
   "cell_type": "markdown",
   "metadata": {},
   "source": [
    "## 5、将结果写出到csv文件"
   ]
  },
  {
   "cell_type": "code",
   "execution_count": null,
   "metadata": {},
   "outputs": [],
   "source": [
    "all_datas[0]"
   ]
  },
  {
   "cell_type": "code",
   "execution_count": null,
   "metadata": {},
   "outputs": [],
   "source": [
    "all_datas[0].keys()"
   ]
  },
  {
   "cell_type": "code",
   "execution_count": null,
   "metadata": {},
   "outputs": [],
   "source": [
    "import csv\n",
    "with open('./beijing_tianqi_2018.csv', 'w', newline='', encoding='utf-8') as csv_file:\n",
    "    writer = csv.writer(csv_file)\n",
    "    \n",
    "    columns = ['ymd', 'bWendu', 'yWendu', 'tianqi', 'fengxiang', 'fengli', 'aqi', 'aqiInfo']\n",
    "    writer.writerow(columns)\n",
    "    \n",
    "    for data in all_datas:\n",
    "        writer.writerow([data[column] for column in columns])"
   ]
  },
  {
   "cell_type": "code",
   "execution_count": null,
   "metadata": {},
   "outputs": [],
   "source": []
  }
 ],
 "metadata": {
  "kernelspec": {
   "display_name": "Python 3",
   "language": "python",
   "name": "python3"
  },
  "language_info": {
   "codemirror_mode": {
    "name": "ipython",
    "version": 3
   },
   "file_extension": ".py",
   "mimetype": "text/x-python",
   "name": "python",
   "nbconvert_exporter": "python",
   "pygments_lexer": "ipython3",
   "version": "3.7.4"
  }
 },
 "nbformat": 4,
 "nbformat_minor": 2
}
